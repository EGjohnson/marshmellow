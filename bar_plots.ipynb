{
 "metadata": {
  "name": "",
  "signature": "sha256:9efb7f38db096943ea3cc197ec3adf98d99b0226e9a86b364a919706a91bf69a"
 },
 "nbformat": 3,
 "nbformat_minor": 0,
 "worksheets": [
  {
   "cells": [
    {
     "cell_type": "code",
     "collapsed": false,
     "input": [
      "import numpy as np\n",
      "from matplotlib import pyplot as plt\n",
      "%matplotlib inline\n",
      "'''\n",
      "dataset = [{'A':19, 'B':39, 'C':61, 'D':70},\n",
      "           {'A':34, 'B':68, 'C':32, 'D':38},\n",
      "           {'A':35, 'B':45, 'C':66, 'D':50},\n",
      "           {'A':23, 'B':23, 'C':21, 'D':16},\n",
      "           {'A':35, 'B':45, 'C':66, 'D':50}]\n",
      "data_orders = [['A', 'B', 'C', 'D'], \n",
      "               ['B', 'A', 'C', 'D'], \n",
      "               ['A', 'B', 'D', 'C'], \n",
      "               ['B', 'A', 'C', 'D'],\n",
      "               ['A', 'B', 'C', 'D']]\n",
      "colors = [\"r\",\"g\",\"g\",\"g\"]\n",
      "names = sorted(dataset[0].keys())\n",
      "values = np.array([[data[name] for name in order] for data,order in zip(dataset, data_orders)])\n",
      "lefts = np.insert(np.cumsum(values, axis=1),0,0, axis=1)[:, :-1]\n",
      "orders = np.array(data_orders)\n",
      "bottoms = np.arange(len(data_orders))\n",
      "\n",
      "for name, color in zip(names, colors):\n",
      "    idx = np.where(orders == name)\n",
      "    value = values[idx]\n",
      "    left = lefts[idx]\n",
      "    \n",
      "    plt.bar(left=left, height=0.8, width=value, bottom=bottoms, \n",
      "           color=color, orientation=\"horizontal\", label=name)\n",
      "plt.yticks(bottoms+0.4, [\"data %d\" % (t+1) for t in bottoms])\n",
      "plt.legend(loc=\"best\", bbox_to_anchor=(1.0, 1.00))\n",
      "plt.subplots_adjust(right=0.85)\n",
      "plt.savefig('/home/elizabeth/Desktop/foo.png')\n",
      "'''\n",
      "\n",
      "color = [\"g\",\"y\",\"r\",\"b\",\"m\"]\n",
      "left=np.array([119, 134,  80,  67, 146]) #left (where each block starts)\n",
      "bottoms=np.array([3, 3, 3, 3, 3])        #bottom (where stack sits y axis)\n",
      "value=np.array([70, 38, 50, 16, 50])     #width (how long each block is x axis)\n",
      "value2=np.array([10, 12, 15, 16, 12])    \n",
      "value_arr=[value,value2]\n",
      "plt.bar(left=value2, height=0.8, width=value2, bottom=bottoms, \n",
      "            color=color, orientation=\"horizontal\")\n",
      "\n"
     ],
     "language": "python",
     "metadata": {},
     "outputs": [
      {
       "metadata": {},
       "output_type": "pyout",
       "prompt_number": 1,
       "text": [
        "<Container object of 5 artists>"
       ]
      },
      {
       "metadata": {},
       "output_type": "display_data",
       "png": "[encoded data removed]",
       "text": [
        "<matplotlib.figure.Figure at 0x2f42dd0>"
       ]
      }
     ],
     "prompt_number": 1
    },
    {
     "cell_type": "code",
     "collapsed": false,
     "input": [],
     "language": "python",
     "metadata": {},
     "outputs": []
    }
   ],
   "metadata": {}
  }
 ]
}